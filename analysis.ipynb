{
 "cells": [
  {
   "cell_type": "markdown",
   "id": "4ef20589-e766-4686-9e43-40d77dc088aa",
   "metadata": {},
   "source": [
    "# Identifying Cost Drivers and Improving Financial Sustainability for Hospitals"
   ]
  },
  {
   "cell_type": "markdown",
   "id": "c3d4d860-d6ec-46f9-8cfa-780805adcb81",
   "metadata": {},
   "source": [
    "**Problem statement**\n",
    "\n",
    "Hospitals operate in a challenging financial landscape, balancing service quality with cost constraints. By analyzing key financial and operational metrics, this project aims to uncover:\n",
    "\n",
    "- The primary drivers of high costs and low efficiency.\n",
    "- Differences in financial performance between hospital types (e.g., rural vs. urban).\n",
    "- Strategies to improve profitability and support financially vulnerable hospitals.\n",
    "\n",
    "\n",
    "Expected Outcomes:\n",
    "- Key Cost Drivers Identified: A clear understanding of factors contributing to high costs and inefficiencies.\n",
    "- Hospital Segmentation: Classification of hospitals into financial health categories to tailor recommendations.\n",
    "- Actionable Recommendations: Data-driven suggestions for improving cost efficiency, enhancing revenue streams, and supporting financially vulnerable hospitals.\n"
   ]
  },
  {
   "cell_type": "markdown",
   "id": "4d889693-76bd-43d8-ae1b-e5ff0db32f12",
   "metadata": {},
   "source": [
    "## Imports and utility functions"
   ]
  },
  {
   "cell_type": "code",
   "execution_count": 1,
   "id": "0d8a0bd7-3c90-4e6e-8ed8-65a448f35361",
   "metadata": {
    "tags": []
   },
   "outputs": [],
   "source": [
    "import numpy as np\n",
    "import pandas as pd\n",
    "import seaborn as sns\n",
    "import matplotlib.pyplot as plt"
   ]
  },
  {
   "cell_type": "code",
   "execution_count": 2,
   "id": "25627ca8-ee58-416a-9917-378142d0ace1",
   "metadata": {
    "tags": []
   },
   "outputs": [],
   "source": [
    "def impute_in_beds_range(row, col_name):\n",
    "    if pd.isnull(row[col_name]):\n",
    "        n_beds = row['Number of Beds']\n",
    "        if pd.isnull(n_beds):\n",
    "            # If 'Number of Beds' is missing, impute with overall median\n",
    "            median_value = df[col_name].median()\n",
    "            return median_value\n",
    "        else:\n",
    "            # Define the bed range\n",
    "            min_beds = n_beds - 50\n",
    "            max_beds = n_beds + 50\n",
    "            # Filter the dataframe to get hospitals within this bed range and with non-missing salary values\n",
    "            df_filtered = df[(df['Number of Beds'] >= min_beds) & (df['Number of Beds'] <= max_beds) & (~df[col_name].isnull())]\n",
    "            # If no hospitals are found in this range, expand the range\n",
    "            range_expansion = 50 \n",
    "            while df_filtered.empty:\n",
    "                min_beds -= range_expansion\n",
    "                max_beds += range_expansion\n",
    "                # Ensure min_beds is not less than zero and max_beds doesn't exceed the maximum number of beds\n",
    "                min_beds = max(min_beds, df['Number of Beds'].min())\n",
    "                max_beds = min(max_beds, df['Number of Beds'].max())\n",
    "                # Break the loop if the range cannot be expanded further\n",
    "                if min_beds == df['Number of Beds'].min() and max_beds == df['Number of Beds'].max():\n",
    "                    break\n",
    "                df_filtered = df[(df['Number of Beds'] >= min_beds) & (df['Number of Beds'] <= max_beds) & (~df[col_name].isnull())]\n",
    "            if df_filtered.empty:\n",
    "                # If still no hospitals are found, use overall median\n",
    "                median_value = df[col_name].median()\n",
    "            else:\n",
    "                # Compute the median salary variable in this filtered set\n",
    "                median_value = df_filtered[col_name].median()\n",
    "            return median_value\n",
    "    else:\n",
    "        # If the salary variable is not missing, return the original value\n",
    "        return row[col_name]"
   ]
  },
  {
   "cell_type": "code",
   "execution_count": 3,
   "id": "da9e75c6-ba20-4459-a120-58013452d77a",
   "metadata": {
    "tags": []
   },
   "outputs": [
    {
     "data": {
      "text/html": [
       "<div>\n",
       "<style scoped>\n",
       "    .dataframe tbody tr th:only-of-type {\n",
       "        vertical-align: middle;\n",
       "    }\n",
       "\n",
       "    .dataframe tbody tr th {\n",
       "        vertical-align: top;\n",
       "    }\n",
       "\n",
       "    .dataframe thead th {\n",
       "        text-align: right;\n",
       "    }\n",
       "</style>\n",
       "<table border=\"1\" class=\"dataframe\">\n",
       "  <thead>\n",
       "    <tr style=\"text-align: right;\">\n",
       "      <th></th>\n",
       "      <th>rpt_rec_num</th>\n",
       "      <th>Provider CCN</th>\n",
       "      <th>Hospital Name</th>\n",
       "      <th>Street Address</th>\n",
       "      <th>City</th>\n",
       "      <th>State Code</th>\n",
       "      <th>Zip Code</th>\n",
       "      <th>County</th>\n",
       "      <th>Medicare CBSA Number</th>\n",
       "      <th>Rural Versus Urban</th>\n",
       "      <th>...</th>\n",
       "      <th>Net Income from Service to Patients</th>\n",
       "      <th>Total Other Income</th>\n",
       "      <th>Total Income</th>\n",
       "      <th>Total Other Expenses</th>\n",
       "      <th>Net Income</th>\n",
       "      <th>Cost To Charge Ratio</th>\n",
       "      <th>Net Revenue from Medicaid</th>\n",
       "      <th>Medicaid Charges</th>\n",
       "      <th>Net Revenue from Stand-Alone CHIP</th>\n",
       "      <th>Stand-Alone CHIP Charges</th>\n",
       "    </tr>\n",
       "  </thead>\n",
       "  <tbody>\n",
       "    <tr>\n",
       "      <th>0</th>\n",
       "      <td>717629</td>\n",
       "      <td>344028</td>\n",
       "      <td>STRATEGIC BEHAVIORAL CENTER - GARNER</td>\n",
       "      <td>3200 WATERFIELD ROAD</td>\n",
       "      <td>GARNER</td>\n",
       "      <td>NC</td>\n",
       "      <td>27529-7727</td>\n",
       "      <td>NaN</td>\n",
       "      <td>NaN</td>\n",
       "      <td>NaN</td>\n",
       "      <td>...</td>\n",
       "      <td>NaN</td>\n",
       "      <td>NaN</td>\n",
       "      <td>NaN</td>\n",
       "      <td>NaN</td>\n",
       "      <td>NaN</td>\n",
       "      <td>NaN</td>\n",
       "      <td>NaN</td>\n",
       "      <td>NaN</td>\n",
       "      <td>NaN</td>\n",
       "      <td>NaN</td>\n",
       "    </tr>\n",
       "    <tr>\n",
       "      <th>1</th>\n",
       "      <td>717969</td>\n",
       "      <td>180078</td>\n",
       "      <td>PAUL B. HALL REGIONAL MEDICAL CENTER</td>\n",
       "      <td>PAUL B. HALL REGIONAL MEDICAL CENTE</td>\n",
       "      <td>PAINTSVILLE</td>\n",
       "      <td>KY</td>\n",
       "      <td>41240</td>\n",
       "      <td>JOHNSON</td>\n",
       "      <td>99918.0</td>\n",
       "      <td>R</td>\n",
       "      <td>...</td>\n",
       "      <td>634470.0</td>\n",
       "      <td>2151392.0</td>\n",
       "      <td>2785862.0</td>\n",
       "      <td>15.0</td>\n",
       "      <td>2785847.0</td>\n",
       "      <td>0.074617</td>\n",
       "      <td>1114125.0</td>\n",
       "      <td>26708472.0</td>\n",
       "      <td>NaN</td>\n",
       "      <td>NaN</td>\n",
       "    </tr>\n",
       "    <tr>\n",
       "      <th>2</th>\n",
       "      <td>719460</td>\n",
       "      <td>520210</td>\n",
       "      <td>MARSHFIELD MEDICAL CENTER-EAU CLAIRE</td>\n",
       "      <td>2116 CRAIG ROAD</td>\n",
       "      <td>EAU CLAIRE</td>\n",
       "      <td>WI</td>\n",
       "      <td>54701</td>\n",
       "      <td>NaN</td>\n",
       "      <td>20740.0</td>\n",
       "      <td>U</td>\n",
       "      <td>...</td>\n",
       "      <td>-4259661.0</td>\n",
       "      <td>845990.0</td>\n",
       "      <td>-3413671.0</td>\n",
       "      <td>151877.0</td>\n",
       "      <td>-3565548.0</td>\n",
       "      <td>0.451411</td>\n",
       "      <td>14333809.0</td>\n",
       "      <td>18797586.0</td>\n",
       "      <td>NaN</td>\n",
       "      <td>NaN</td>\n",
       "    </tr>\n",
       "    <tr>\n",
       "      <th>3</th>\n",
       "      <td>719475</td>\n",
       "      <td>63037</td>\n",
       "      <td>COBALT REHAB HOSP WESTMINSTER</td>\n",
       "      <td>6500 WEST 104TH AVE</td>\n",
       "      <td>WESTMINSTER</td>\n",
       "      <td>CO</td>\n",
       "      <td>80020</td>\n",
       "      <td>NaN</td>\n",
       "      <td>79740.0</td>\n",
       "      <td>U</td>\n",
       "      <td>...</td>\n",
       "      <td>-1980346.0</td>\n",
       "      <td>NaN</td>\n",
       "      <td>-1980346.0</td>\n",
       "      <td>NaN</td>\n",
       "      <td>-1980346.0</td>\n",
       "      <td>NaN</td>\n",
       "      <td>NaN</td>\n",
       "      <td>NaN</td>\n",
       "      <td>NaN</td>\n",
       "      <td>NaN</td>\n",
       "    </tr>\n",
       "    <tr>\n",
       "      <th>4</th>\n",
       "      <td>721379</td>\n",
       "      <td>340123</td>\n",
       "      <td>AMERICAN HEALTHCARE SYSTEMS</td>\n",
       "      <td>373 NORTH FAYETTEVILLE STREET</td>\n",
       "      <td>ASHEBORO</td>\n",
       "      <td>NC</td>\n",
       "      <td>27204-</td>\n",
       "      <td>RANDOLPH</td>\n",
       "      <td>24660.0</td>\n",
       "      <td>U</td>\n",
       "      <td>...</td>\n",
       "      <td>-5248749.0</td>\n",
       "      <td>-6661015.0</td>\n",
       "      <td>-11909764.0</td>\n",
       "      <td>NaN</td>\n",
       "      <td>-11909764.0</td>\n",
       "      <td>0.160752</td>\n",
       "      <td>1724073.0</td>\n",
       "      <td>6249901.0</td>\n",
       "      <td>NaN</td>\n",
       "      <td>NaN</td>\n",
       "    </tr>\n",
       "  </tbody>\n",
       "</table>\n",
       "<p>5 rows × 117 columns</p>\n",
       "</div>"
      ],
      "text/plain": [
       "   rpt_rec_num  Provider CCN                         Hospital Name  \\\n",
       "0       717629        344028  STRATEGIC BEHAVIORAL CENTER - GARNER   \n",
       "1       717969        180078  PAUL B. HALL REGIONAL MEDICAL CENTER   \n",
       "2       719460        520210  MARSHFIELD MEDICAL CENTER-EAU CLAIRE   \n",
       "3       719475         63037         COBALT REHAB HOSP WESTMINSTER   \n",
       "4       721379        340123           AMERICAN HEALTHCARE SYSTEMS   \n",
       "\n",
       "                        Street Address         City State Code    Zip Code  \\\n",
       "0                 3200 WATERFIELD ROAD       GARNER         NC  27529-7727   \n",
       "1  PAUL B. HALL REGIONAL MEDICAL CENTE  PAINTSVILLE         KY       41240   \n",
       "2                      2116 CRAIG ROAD   EAU CLAIRE         WI       54701   \n",
       "3                  6500 WEST 104TH AVE  WESTMINSTER         CO       80020   \n",
       "4        373 NORTH FAYETTEVILLE STREET     ASHEBORO         NC      27204-   \n",
       "\n",
       "     County  Medicare CBSA Number Rural Versus Urban  ...  \\\n",
       "0       NaN                   NaN                NaN  ...   \n",
       "1   JOHNSON               99918.0                  R  ...   \n",
       "2       NaN               20740.0                  U  ...   \n",
       "3       NaN               79740.0                  U  ...   \n",
       "4  RANDOLPH               24660.0                  U  ...   \n",
       "\n",
       "  Net Income from Service to Patients  Total Other Income  Total Income  \\\n",
       "0                                 NaN                 NaN           NaN   \n",
       "1                            634470.0           2151392.0     2785862.0   \n",
       "2                          -4259661.0            845990.0    -3413671.0   \n",
       "3                          -1980346.0                 NaN    -1980346.0   \n",
       "4                          -5248749.0          -6661015.0   -11909764.0   \n",
       "\n",
       "  Total Other Expenses  Net Income  Cost To Charge Ratio  \\\n",
       "0                  NaN         NaN                   NaN   \n",
       "1                 15.0   2785847.0              0.074617   \n",
       "2             151877.0  -3565548.0              0.451411   \n",
       "3                  NaN  -1980346.0                   NaN   \n",
       "4                  NaN -11909764.0              0.160752   \n",
       "\n",
       "   Net Revenue from Medicaid  Medicaid Charges  \\\n",
       "0                        NaN               NaN   \n",
       "1                  1114125.0        26708472.0   \n",
       "2                 14333809.0        18797586.0   \n",
       "3                        NaN               NaN   \n",
       "4                  1724073.0         6249901.0   \n",
       "\n",
       "   Net Revenue from Stand-Alone CHIP  Stand-Alone CHIP Charges  \n",
       "0                                NaN                       NaN  \n",
       "1                                NaN                       NaN  \n",
       "2                                NaN                       NaN  \n",
       "3                                NaN                       NaN  \n",
       "4                                NaN                       NaN  \n",
       "\n",
       "[5 rows x 117 columns]"
      ]
     },
     "execution_count": 3,
     "metadata": {},
     "output_type": "execute_result"
    }
   ],
   "source": [
    "# Load the dataset\n",
    "file_path = 'Hospital_Provider_Cost_Report_2022.csv'\n",
    "df = pd.read_csv(file_path)\n",
    "# Data dictionary: https://data.cms.gov/sites/default/files/2024-03/9756088d-5280-4090-80b9-449d31ef25a3/Cost%20Report%20Data%20Dictionary%20Update.pdf\n",
    "df.head()"
   ]
  },
  {
   "cell_type": "code",
   "execution_count": 4,
   "id": "8a8811b2-0cf6-4f94-a77d-93e9a8324cbe",
   "metadata": {
    "tags": []
   },
   "outputs": [
    {
     "name": "stdout",
     "output_type": "stream",
     "text": [
      "<class 'pandas.core.frame.DataFrame'>\n",
      "RangeIndex: 6064 entries, 0 to 6063\n",
      "Columns: 117 entries, rpt_rec_num to Stand-Alone CHIP Charges\n",
      "dtypes: float64(103), int64(4), object(10)\n",
      "memory usage: 5.4+ MB\n"
     ]
    }
   ],
   "source": [
    "df.info()"
   ]
  },
  {
   "cell_type": "code",
   "execution_count": 5,
   "id": "4b887848-01ed-4722-be29-69ce33ac8176",
   "metadata": {
    "tags": []
   },
   "outputs": [
    {
     "data": {
      "text/html": [
       "<div>\n",
       "<style scoped>\n",
       "    .dataframe tbody tr th:only-of-type {\n",
       "        vertical-align: middle;\n",
       "    }\n",
       "\n",
       "    .dataframe tbody tr th {\n",
       "        vertical-align: top;\n",
       "    }\n",
       "\n",
       "    .dataframe thead th {\n",
       "        text-align: right;\n",
       "    }\n",
       "</style>\n",
       "<table border=\"1\" class=\"dataframe\">\n",
       "  <thead>\n",
       "    <tr style=\"text-align: right;\">\n",
       "      <th></th>\n",
       "      <th>rpt_rec_num</th>\n",
       "      <th>Provider CCN</th>\n",
       "      <th>Medicare CBSA Number</th>\n",
       "      <th>Provider Type</th>\n",
       "      <th>Type of Control</th>\n",
       "      <th>FTE - Employees on Payroll</th>\n",
       "      <th>Number of Interns and Residents (FTE)</th>\n",
       "      <th>Total Days Title V</th>\n",
       "      <th>Total Days Title XVIII</th>\n",
       "      <th>Total Days Title XIX</th>\n",
       "      <th>...</th>\n",
       "      <th>Net Income from Service to Patients</th>\n",
       "      <th>Total Other Income</th>\n",
       "      <th>Total Income</th>\n",
       "      <th>Total Other Expenses</th>\n",
       "      <th>Net Income</th>\n",
       "      <th>Cost To Charge Ratio</th>\n",
       "      <th>Net Revenue from Medicaid</th>\n",
       "      <th>Medicaid Charges</th>\n",
       "      <th>Net Revenue from Stand-Alone CHIP</th>\n",
       "      <th>Stand-Alone CHIP Charges</th>\n",
       "    </tr>\n",
       "  </thead>\n",
       "  <tbody>\n",
       "    <tr>\n",
       "      <th>count</th>\n",
       "      <td>6064.000000</td>\n",
       "      <td>6064.000000</td>\n",
       "      <td>5981.000000</td>\n",
       "      <td>6064.000000</td>\n",
       "      <td>6064.000000</td>\n",
       "      <td>5946.000000</td>\n",
       "      <td>1499.000000</td>\n",
       "      <td>134.000000</td>\n",
       "      <td>5913.000000</td>\n",
       "      <td>5051.000000</td>\n",
       "      <td>...</td>\n",
       "      <td>5.979000e+03</td>\n",
       "      <td>5.751000e+03</td>\n",
       "      <td>5.973000e+03</td>\n",
       "      <td>1.778000e+03</td>\n",
       "      <td>5.974000e+03</td>\n",
       "      <td>4600.000000</td>\n",
       "      <td>4.385000e+03</td>\n",
       "      <td>4.373000e+03</td>\n",
       "      <td>9.860000e+02</td>\n",
       "      <td>1.006000e+03</td>\n",
       "    </tr>\n",
       "    <tr>\n",
       "      <th>mean</th>\n",
       "      <td>754291.104387</td>\n",
       "      <td>269404.638522</td>\n",
       "      <td>53018.188263</td>\n",
       "      <td>1.708773</td>\n",
       "      <td>4.178595</td>\n",
       "      <td>1174.646171</td>\n",
       "      <td>94.247245</td>\n",
       "      <td>2175.932836</td>\n",
       "      <td>7604.045831</td>\n",
       "      <td>3390.437735</td>\n",
       "      <td>...</td>\n",
       "      <td>-1.213235e+07</td>\n",
       "      <td>2.212219e+07</td>\n",
       "      <td>9.155438e+06</td>\n",
       "      <td>6.840885e+06</td>\n",
       "      <td>7.117901e+06</td>\n",
       "      <td>1.349845</td>\n",
       "      <td>3.172794e+07</td>\n",
       "      <td>1.942532e+08</td>\n",
       "      <td>7.108582e+05</td>\n",
       "      <td>4.443109e+06</td>\n",
       "    </tr>\n",
       "    <tr>\n",
       "      <th>std</th>\n",
       "      <td>10770.303579</td>\n",
       "      <td>160322.536510</td>\n",
       "      <td>34012.617263</td>\n",
       "      <td>1.431237</td>\n",
       "      <td>3.200321</td>\n",
       "      <td>13569.179424</td>\n",
       "      <td>170.730012</td>\n",
       "      <td>4148.544626</td>\n",
       "      <td>12124.613554</td>\n",
       "      <td>8052.593393</td>\n",
       "      <td>...</td>\n",
       "      <td>1.469759e+08</td>\n",
       "      <td>9.444758e+07</td>\n",
       "      <td>1.285488e+08</td>\n",
       "      <td>4.677254e+07</td>\n",
       "      <td>1.289053e+08</td>\n",
       "      <td>53.870625</td>\n",
       "      <td>8.750084e+07</td>\n",
       "      <td>4.248297e+08</td>\n",
       "      <td>3.114268e+06</td>\n",
       "      <td>2.170038e+07</td>\n",
       "    </tr>\n",
       "    <tr>\n",
       "      <th>min</th>\n",
       "      <td>717629.000000</td>\n",
       "      <td>10001.000000</td>\n",
       "      <td>10180.000000</td>\n",
       "      <td>1.000000</td>\n",
       "      <td>1.000000</td>\n",
       "      <td>0.050000</td>\n",
       "      <td>0.010000</td>\n",
       "      <td>1.000000</td>\n",
       "      <td>1.000000</td>\n",
       "      <td>1.000000</td>\n",
       "      <td>...</td>\n",
       "      <td>-1.625376e+09</td>\n",
       "      <td>-2.963724e+08</td>\n",
       "      <td>-1.224029e+09</td>\n",
       "      <td>-5.686516e+08</td>\n",
       "      <td>-1.224029e+09</td>\n",
       "      <td>0.041931</td>\n",
       "      <td>-1.449717e+07</td>\n",
       "      <td>1.000000e+01</td>\n",
       "      <td>5.400000e+01</td>\n",
       "      <td>7.200000e+01</td>\n",
       "    </tr>\n",
       "    <tr>\n",
       "      <th>25%</th>\n",
       "      <td>745140.750000</td>\n",
       "      <td>140157.250000</td>\n",
       "      <td>26420.000000</td>\n",
       "      <td>1.000000</td>\n",
       "      <td>2.000000</td>\n",
       "      <td>129.112500</td>\n",
       "      <td>8.395000</td>\n",
       "      <td>110.000000</td>\n",
       "      <td>989.000000</td>\n",
       "      <td>121.000000</td>\n",
       "      <td>...</td>\n",
       "      <td>-1.248723e+07</td>\n",
       "      <td>6.433410e+05</td>\n",
       "      <td>-3.266985e+06</td>\n",
       "      <td>1.000000e+00</td>\n",
       "      <td>-3.868518e+06</td>\n",
       "      <td>0.197872</td>\n",
       "      <td>2.851322e+06</td>\n",
       "      <td>1.118957e+07</td>\n",
       "      <td>1.748900e+04</td>\n",
       "      <td>9.999850e+04</td>\n",
       "    </tr>\n",
       "    <tr>\n",
       "      <th>50%</th>\n",
       "      <td>755650.500000</td>\n",
       "      <td>260021.000000</td>\n",
       "      <td>39300.000000</td>\n",
       "      <td>1.000000</td>\n",
       "      <td>2.000000</td>\n",
       "      <td>288.250000</td>\n",
       "      <td>28.330000</td>\n",
       "      <td>722.000000</td>\n",
       "      <td>2819.000000</td>\n",
       "      <td>680.000000</td>\n",
       "      <td>...</td>\n",
       "      <td>-2.037805e+06</td>\n",
       "      <td>2.970702e+06</td>\n",
       "      <td>1.004401e+06</td>\n",
       "      <td>9.739300e+04</td>\n",
       "      <td>7.509730e+05</td>\n",
       "      <td>0.289937</td>\n",
       "      <td>9.163034e+06</td>\n",
       "      <td>5.166032e+07</td>\n",
       "      <td>7.285500e+04</td>\n",
       "      <td>4.802065e+05</td>\n",
       "    </tr>\n",
       "    <tr>\n",
       "      <th>75%</th>\n",
       "      <td>762052.750000</td>\n",
       "      <td>393035.250000</td>\n",
       "      <td>99916.000000</td>\n",
       "      <td>1.000000</td>\n",
       "      <td>5.000000</td>\n",
       "      <td>902.735000</td>\n",
       "      <td>91.025000</td>\n",
       "      <td>2627.250000</td>\n",
       "      <td>9297.000000</td>\n",
       "      <td>3083.000000</td>\n",
       "      <td>...</td>\n",
       "      <td>2.852722e+06</td>\n",
       "      <td>1.060829e+07</td>\n",
       "      <td>8.285527e+06</td>\n",
       "      <td>1.888425e+06</td>\n",
       "      <td>7.395911e+06</td>\n",
       "      <td>0.475700</td>\n",
       "      <td>2.784502e+07</td>\n",
       "      <td>1.940467e+08</td>\n",
       "      <td>2.834080e+05</td>\n",
       "      <td>2.083000e+06</td>\n",
       "    </tr>\n",
       "    <tr>\n",
       "      <th>max</th>\n",
       "      <td>776832.000000</td>\n",
       "      <td>713029.000000</td>\n",
       "      <td>99966.000000</td>\n",
       "      <td>10.000000</td>\n",
       "      <td>13.000000</td>\n",
       "      <td>987647.000000</td>\n",
       "      <td>1734.240000</td>\n",
       "      <td>32548.000000</td>\n",
       "      <td>176816.000000</td>\n",
       "      <td>175703.000000</td>\n",
       "      <td>...</td>\n",
       "      <td>7.864650e+09</td>\n",
       "      <td>1.794124e+09</td>\n",
       "      <td>7.903916e+09</td>\n",
       "      <td>7.197225e+08</td>\n",
       "      <td>7.919570e+09</td>\n",
       "      <td>3636.891704</td>\n",
       "      <td>3.173354e+09</td>\n",
       "      <td>7.968634e+09</td>\n",
       "      <td>4.481714e+07</td>\n",
       "      <td>3.791126e+08</td>\n",
       "    </tr>\n",
       "  </tbody>\n",
       "</table>\n",
       "<p>8 rows × 107 columns</p>\n",
       "</div>"
      ],
      "text/plain": [
       "         rpt_rec_num   Provider CCN  Medicare CBSA Number  Provider Type  \\\n",
       "count    6064.000000    6064.000000           5981.000000    6064.000000   \n",
       "mean   754291.104387  269404.638522          53018.188263       1.708773   \n",
       "std     10770.303579  160322.536510          34012.617263       1.431237   \n",
       "min    717629.000000   10001.000000          10180.000000       1.000000   \n",
       "25%    745140.750000  140157.250000          26420.000000       1.000000   \n",
       "50%    755650.500000  260021.000000          39300.000000       1.000000   \n",
       "75%    762052.750000  393035.250000          99916.000000       1.000000   \n",
       "max    776832.000000  713029.000000          99966.000000      10.000000   \n",
       "\n",
       "       Type of Control  FTE - Employees on Payroll  \\\n",
       "count      6064.000000                 5946.000000   \n",
       "mean          4.178595                 1174.646171   \n",
       "std           3.200321                13569.179424   \n",
       "min           1.000000                    0.050000   \n",
       "25%           2.000000                  129.112500   \n",
       "50%           2.000000                  288.250000   \n",
       "75%           5.000000                  902.735000   \n",
       "max          13.000000               987647.000000   \n",
       "\n",
       "       Number of Interns and Residents (FTE)  Total Days Title V  \\\n",
       "count                            1499.000000          134.000000   \n",
       "mean                               94.247245         2175.932836   \n",
       "std                               170.730012         4148.544626   \n",
       "min                                 0.010000            1.000000   \n",
       "25%                                 8.395000          110.000000   \n",
       "50%                                28.330000          722.000000   \n",
       "75%                                91.025000         2627.250000   \n",
       "max                              1734.240000        32548.000000   \n",
       "\n",
       "       Total Days Title XVIII  Total Days Title XIX  ...  \\\n",
       "count             5913.000000           5051.000000  ...   \n",
       "mean              7604.045831           3390.437735  ...   \n",
       "std              12124.613554           8052.593393  ...   \n",
       "min                  1.000000              1.000000  ...   \n",
       "25%                989.000000            121.000000  ...   \n",
       "50%               2819.000000            680.000000  ...   \n",
       "75%               9297.000000           3083.000000  ...   \n",
       "max             176816.000000         175703.000000  ...   \n",
       "\n",
       "       Net Income from Service to Patients  Total Other Income  Total Income  \\\n",
       "count                         5.979000e+03        5.751000e+03  5.973000e+03   \n",
       "mean                         -1.213235e+07        2.212219e+07  9.155438e+06   \n",
       "std                           1.469759e+08        9.444758e+07  1.285488e+08   \n",
       "min                          -1.625376e+09       -2.963724e+08 -1.224029e+09   \n",
       "25%                          -1.248723e+07        6.433410e+05 -3.266985e+06   \n",
       "50%                          -2.037805e+06        2.970702e+06  1.004401e+06   \n",
       "75%                           2.852722e+06        1.060829e+07  8.285527e+06   \n",
       "max                           7.864650e+09        1.794124e+09  7.903916e+09   \n",
       "\n",
       "       Total Other Expenses    Net Income  Cost To Charge Ratio  \\\n",
       "count          1.778000e+03  5.974000e+03           4600.000000   \n",
       "mean           6.840885e+06  7.117901e+06              1.349845   \n",
       "std            4.677254e+07  1.289053e+08             53.870625   \n",
       "min           -5.686516e+08 -1.224029e+09              0.041931   \n",
       "25%            1.000000e+00 -3.868518e+06              0.197872   \n",
       "50%            9.739300e+04  7.509730e+05              0.289937   \n",
       "75%            1.888425e+06  7.395911e+06              0.475700   \n",
       "max            7.197225e+08  7.919570e+09           3636.891704   \n",
       "\n",
       "       Net Revenue from Medicaid  Medicaid Charges  \\\n",
       "count               4.385000e+03      4.373000e+03   \n",
       "mean                3.172794e+07      1.942532e+08   \n",
       "std                 8.750084e+07      4.248297e+08   \n",
       "min                -1.449717e+07      1.000000e+01   \n",
       "25%                 2.851322e+06      1.118957e+07   \n",
       "50%                 9.163034e+06      5.166032e+07   \n",
       "75%                 2.784502e+07      1.940467e+08   \n",
       "max                 3.173354e+09      7.968634e+09   \n",
       "\n",
       "       Net Revenue from Stand-Alone CHIP  Stand-Alone CHIP Charges  \n",
       "count                       9.860000e+02              1.006000e+03  \n",
       "mean                        7.108582e+05              4.443109e+06  \n",
       "std                         3.114268e+06              2.170038e+07  \n",
       "min                         5.400000e+01              7.200000e+01  \n",
       "25%                         1.748900e+04              9.999850e+04  \n",
       "50%                         7.285500e+04              4.802065e+05  \n",
       "75%                         2.834080e+05              2.083000e+06  \n",
       "max                         4.481714e+07              3.791126e+08  \n",
       "\n",
       "[8 rows x 107 columns]"
      ]
     },
     "execution_count": 5,
     "metadata": {},
     "output_type": "execute_result"
    }
   ],
   "source": [
    "df.describe()"
   ]
  },
  {
   "cell_type": "markdown",
   "id": "08edf1c1-df68-4692-a4a1-dcf3543004f3",
   "metadata": {},
   "source": [
    "## Data Wrangling"
   ]
  },
  {
   "cell_type": "markdown",
   "id": "d27fd148-30c4-4753-8374-4fffb735fa64",
   "metadata": {
    "tags": []
   },
   "source": [
    "### Handle missing values"
   ]
  },
  {
   "cell_type": "code",
   "execution_count": 6,
   "id": "707fec07-f1fc-4805-9d2c-d1a0166bf3a7",
   "metadata": {
    "tags": []
   },
   "outputs": [],
   "source": [
    "missing_values = df.isnull().sum()"
   ]
  },
  {
   "cell_type": "code",
   "execution_count": 7,
   "id": "405e8cc9-90d8-47ea-8838-a686e2b200b6",
   "metadata": {
    "tags": []
   },
   "outputs": [
    {
     "data": {
      "text/plain": [
       "Outlier Payments For Discharges                        100.000000\n",
       "DRG Amounts Other Than Outlier Payments                100.000000\n",
       "Hospital Total Days Title V For Adults & Peds           97.955145\n",
       "Total Discharges Title V                                97.922164\n",
       "Hospital Total Discharges Title V For Adults & Peds     97.922164\n",
       "                                                          ...    \n",
       "Provider Type                                            0.000000\n",
       "Type of Control                                          0.000000\n",
       "Fiscal Year Begin Date                                   0.000000\n",
       "Provider CCN                                             0.000000\n",
       "rpt_rec_num                                              0.000000\n",
       "Length: 117, dtype: float64"
      ]
     },
     "execution_count": 7,
     "metadata": {},
     "output_type": "execute_result"
    }
   ],
   "source": [
    "missing_percentage = (missing_values / len(df)) * 100\n",
    "missing_percentage.sort_values(ascending=False)"
   ]
  },
  {
   "cell_type": "code",
   "execution_count": 8,
   "id": "19c2a023-c7bf-4294-a076-1ecfad709843",
   "metadata": {
    "tags": []
   },
   "outputs": [],
   "source": [
    "# Drop variables with high missingness or irrelavant\n",
    "drop_vars = [\n",
    "    'Outlier Payments For Discharges',\n",
    "    'DRG Amounts Other Than Outlier Payments',\n",
    "    'Hospital Total Days Title V For Adults & Peds',\n",
    "    'Hospital Total Discharges Title V For Adults & Peds',\n",
    "    'Total Discharges Title V',\n",
    "    'Total Days Title V',\n",
    "    'Wage-Related Costs (RHC/FQHC)',\n",
    "    'Total Other Expenses',\n",
    "    'County',\n",
    "    'Street Address']\n",
    "\n",
    "df.drop(columns=drop_vars, inplace=True)"
   ]
  },
  {
   "cell_type": "code",
   "execution_count": 9,
   "id": "e60477fa-7f81-4152-bf01-d2546f48ce19",
   "metadata": {
    "tags": []
   },
   "outputs": [],
   "source": [
    "# List of variables to fill with zero - Missingness likely indicates the absence of a feature or activity\n",
    "fill_zero_vars = [\n",
    "    # Financial variables\n",
    "    'Notes Receivable',\n",
    "    'Unsecured Loans',\n",
    "    'Mortgage Payable',\n",
    "    'Notes Payable',\n",
    "    'Investments',\n",
    "    'Temporary Investments',\n",
    "    'Deferred Income',\n",
    "    'Payroll Taxes Payable',\n",
    "    'Notes and Loans Payable (Short Term)',\n",
    "    'Other Current Assets',\n",
    "    'Other Long Term Liabilities',\n",
    "    'Other Assets',\n",
    "    'Total Other Assets',\n",
    "    'Less: Allowances for Uncollectible Notes and Accounts Receivable',\n",
    "    'Other Current Liabilities',\n",
    "    'Total Long Term Liabilities',\n",
    "    # Operational variables\n",
    "    'Number of Interns and Residents (FTE)',\n",
    "    'Wage Related Costs for Interns and Residents',\n",
    "    'Wage Related Costs for Part - A Teaching Physicians',\n",
    "    'Contract Labor: Direct Patient Care',\n",
    "    # Program-specific variables\n",
    "    'Net Revenue from Stand-Alone CHIP',\n",
    "    'Stand-Alone CHIP Charges',\n",
    "    'Managed Care Simulated Payments',\n",
    "    'Total IME Payment',\n",
    "    'DRG Amounts Before October 1',\n",
    "    'DRG Amounts After October 1',\n",
    "    'Disproportionate Share Adjustment',\n",
    "    'Allowable DSH Percentage',\n",
    "    # Asset variables\n",
    "    'Health Information Technology Designated Assets',\n",
    "    'Leasehold Improvements',\n",
    "    'Minor Equipment Depreciable',\n",
    "    'Fixed Equipment',\n",
    "    'Land Improvements',\n",
    "    'Land',\n",
    "    'Buildings',\n",
    "    'Major Movable Equipment',\n",
    "    # Charity care and bad debt\n",
    "    'Cost of Charity Care',\n",
    "    'Total Bad Debt Expense',\n",
    "    'Cost of Uncompensated Care',\n",
    "    'Total Unreimbursed and Uncompensated Care',\n",
    "    # Medicaid variables\n",
    "    'Medicaid Charges',\n",
    "    'Net Revenue from Medicaid',\n",
    "    # Title variables\n",
    "    'Hospital Total Discharges Title XIX For Adults & Peds',\n",
    "    'Total Discharges Title XIX',\n",
    "    'Hospital Total Days Title XIX For Adults & Peds',\n",
    "    'Total Days Title XIX',\n",
    "    'Hospital Total Days Title XVIII For Adults & Peds',\n",
    "    'Total Days Title XVIII',\n",
    "    'Hospital Total Discharges Title XVIII For Adults & Peds',\n",
    "    'Total Discharges Title XVIII',\n",
    "    # Outpatient variables\n",
    "    'Outpatient Revenue',\n",
    "    'Outpatient Total Charges',\n",
    "    # Other financial variables\n",
    "    'Prepaid Expenses',\n",
    "    'Inventory',\n",
    "    'Salaries, Wages, and Fees Payable'\n",
    "]"
   ]
  },
  {
   "cell_type": "code",
   "execution_count": 10,
   "id": "5dbb454c-a989-4ee8-bd0b-fef298a748f7",
   "metadata": {
    "tags": []
   },
   "outputs": [],
   "source": [
    "for col in fill_zero_vars:\n",
    "    df[col] = df[col].fillna(0)        "
   ]
  },
  {
   "cell_type": "code",
   "execution_count": 11,
   "id": "ea738fbc-7d2e-441e-b952-be81d9f68f6f",
   "metadata": {
    "tags": []
   },
   "outputs": [],
   "source": [
    "# Impute Values Based on Number of Beds Range - value has correlation with beds\n",
    "vars_corr_beds = [\n",
    "    'Wage-Related Costs (Core)', \n",
    "    'Total Salaries (adjusted)', \n",
    "    'Inpatient Revenue', \n",
    "    'Total Patient Revenue', \n",
    "    'Net Patient Revenue', \n",
    "    'Total Fixed Assets',\n",
    "    'Total Current Liabilities',\n",
    "    'Total Liabilities',\n",
    "    'Total Current Assets',\n",
    "    'Total Other Income',\n",
    "    'General Fund Balance',\n",
    "    'Total Fund Balances',\n",
    "    'Total Liabilities and Fund Balances',\n",
    "    'Total Assets',\n",
    "    'Depreciation Cost',\n",
    "    \"Less Contractual Allowance and Discounts on Patients' Accounts\",\n",
    "]\n",
    "for col in vars_corr_beds:\n",
    "    df[col] = df.apply(lambda row: impute_in_beds_range(row, col), axis=1)    "
   ]
  },
  {
   "cell_type": "code",
   "execution_count": 12,
   "id": "6cca3579-92d2-4fc2-b9b3-d9ca040e1fb5",
   "metadata": {
    "tags": []
   },
   "outputs": [],
   "source": [
    "# Compute 'Cost To Charge Ratio' Where Missing\n",
    "\n",
    "missing_ratio = df['Cost To Charge Ratio'].isnull()\n",
    "\n",
    "# Ensure 'Total Costs' and 'Combined Outpatient + Inpatient Total Charges' are not zero to avoid division by zero\n",
    "valid_indices = (df['Total Costs'] != 0) & (df['Combined Outpatient + Inpatient Total Charges'] != 0)\n",
    "indices_to_compute = missing_ratio & valid_indices\n",
    "df.loc[indices_to_compute, 'Cost To Charge Ratio'] = (\n",
    "    df.loc[indices_to_compute, 'Total Costs'] /\n",
    "    df.loc[indices_to_compute, 'Combined Outpatient + Inpatient Total Charges']\n",
    ")"
   ]
  },
  {
   "cell_type": "code",
   "execution_count": 13,
   "id": "7e569b37-43a9-4bdb-b820-1217059b8490",
   "metadata": {
    "tags": []
   },
   "outputs": [
    {
     "data": {
      "text/plain": [
       "83"
      ]
     },
     "execution_count": 13,
     "metadata": {},
     "output_type": "execute_result"
    }
   ],
   "source": [
    "df['Cost To Charge Ratio'].isnull().sum()"
   ]
  },
  {
   "cell_type": "code",
   "execution_count": 14,
   "id": "560ad3a4-7244-48c4-9f71-f91d3b4d3d36",
   "metadata": {
    "tags": []
   },
   "outputs": [
    {
     "data": {
      "text/plain": [
       "0"
      ]
     },
     "execution_count": 14,
     "metadata": {},
     "output_type": "execute_result"
    }
   ],
   "source": [
    "# Remove if no 'Total Costs' and 'Combined Outpatient + Inpatient Total Charges'\n",
    "df = df[~df['Cost To Charge Ratio'].isnull()]\n",
    "df['Cost To Charge Ratio'].isnull().sum()"
   ]
  },
  {
   "cell_type": "code",
   "execution_count": 15,
   "id": "6183e81e-7876-46f1-8a8c-fd3ff4bbc243",
   "metadata": {
    "tags": []
   },
   "outputs": [
    {
     "name": "stdout",
     "output_type": "stream",
     "text": [
      "Cash on Hand and in Banks                                                  7.824778\n",
      "Accounts Payable                                                           5.366995\n",
      "Accounts Receivable                                                        4.898846\n",
      "FTE - Employees on Payroll                                                 0.585186\n",
      "Hospital Total Days (V + XVIII + XIX + Unknown) For Adults & Peds          0.351112\n",
      "Hospital Total Discharges (V + XVIII + XIX + Unknown) For Adults & Peds    0.317673\n",
      "Total Discharges (V + XVIII + XIX + Unknown)                               0.317673\n",
      "Total Days (V + XVIII + XIX + Unknown)                                     0.300953\n",
      "Hospital Number of Beds For Adults & Peds                                  0.250794\n",
      "Hospital Total Bed Days Available For Adults & Peds                        0.234075\n",
      "Total Bed Days Available                                                   0.183916\n",
      "Number of Beds                                                             0.183916\n",
      "Total Income                                                               0.133757\n",
      "Net Income                                                                 0.117037\n",
      "Number of Beds + Total for all Subproviders                                0.100318\n",
      "Inpatient Total Charges                                                    0.100318\n",
      "Total Salaries From Worksheet A                                            0.066878\n",
      "Less Total Operating Expense                                               0.033439\n",
      "Net Income from Service to Patients                                        0.033439\n"
     ]
    }
   ],
   "source": [
    "# Re-check missing values\n",
    "missing_values = df.isnull().sum()\n",
    "missing_percentage = (missing_values / len(df)) * 100\n",
    "\n",
    "print(missing_percentage[missing_percentage > 0].sort_values(ascending=False).to_string())"
   ]
  },
  {
   "cell_type": "code",
   "execution_count": 16,
   "id": "c1ceb67a-a272-45df-9cbc-d4fc0d7859cc",
   "metadata": {
    "tags": []
   },
   "outputs": [],
   "source": [
    "financial_vars = ['Cash on Hand and in Banks', 'Accounts Payable', 'Accounts Receivable']\n",
    "\n",
    "for col in financial_vars:\n",
    "    if col in df.columns:\n",
    "        median_value = df[col].median()\n",
    "        df[col] = df[col].fillna(median_value)"
   ]
  },
  {
   "cell_type": "code",
   "execution_count": 17,
   "id": "c616e362-7934-46df-97f2-8eb87a323ced",
   "metadata": {
    "tags": []
   },
   "outputs": [
    {
     "name": "stdout",
     "output_type": "stream",
     "text": [
      "FTE - Employees on Payroll                                                 0.585186\n",
      "Hospital Total Days (V + XVIII + XIX + Unknown) For Adults & Peds          0.351112\n",
      "Total Discharges (V + XVIII + XIX + Unknown)                               0.317673\n",
      "Hospital Total Discharges (V + XVIII + XIX + Unknown) For Adults & Peds    0.317673\n",
      "Total Days (V + XVIII + XIX + Unknown)                                     0.300953\n",
      "Hospital Number of Beds For Adults & Peds                                  0.250794\n",
      "Hospital Total Bed Days Available For Adults & Peds                        0.234075\n",
      "Number of Beds                                                             0.183916\n",
      "Total Bed Days Available                                                   0.183916\n",
      "Total Income                                                               0.133757\n",
      "Net Income                                                                 0.117037\n",
      "Number of Beds + Total for all Subproviders                                0.100318\n",
      "Inpatient Total Charges                                                    0.100318\n",
      "Total Salaries From Worksheet A                                            0.066878\n",
      "Less Total Operating Expense                                               0.033439\n",
      "Net Income from Service to Patients                                        0.033439\n"
     ]
    }
   ],
   "source": [
    "# Re-check missing values\n",
    "missing_values = df.isnull().sum()\n",
    "missing_percentage = (missing_values / len(df)) * 100\n",
    "\n",
    "print(missing_percentage[missing_percentage > 0].sort_values(ascending=False).to_string())"
   ]
  },
  {
   "cell_type": "code",
   "execution_count": 18,
   "id": "d61bc2da-e4cd-426a-959f-0b22c8489cc7",
   "metadata": {
    "tags": []
   },
   "outputs": [
    {
     "data": {
      "text/plain": [
       "65"
      ]
     },
     "execution_count": 18,
     "metadata": {},
     "output_type": "execute_result"
    }
   ],
   "source": [
    "df.isnull().any(axis=1).sum()"
   ]
  },
  {
   "cell_type": "code",
   "execution_count": 19,
   "id": "7d525c13-31b1-4fc4-8f15-981e2f0bba76",
   "metadata": {
    "tags": []
   },
   "outputs": [
    {
     "data": {
      "text/plain": [
       "False"
      ]
     },
     "execution_count": 19,
     "metadata": {},
     "output_type": "execute_result"
    }
   ],
   "source": [
    "df = df.dropna()\n",
    "df.isnull().sum().any()"
   ]
  },
  {
   "cell_type": "code",
   "execution_count": null,
   "id": "b6c4e5db-a4f9-423f-b476-f48c3a8dde06",
   "metadata": {
    "tags": []
   },
   "outputs": [],
   "source": []
  },
  {
   "cell_type": "markdown",
   "id": "171a8505-b2d9-4626-b679-ef52e5b34439",
   "metadata": {},
   "source": [
    "### Correct Data Type"
   ]
  },
  {
   "cell_type": "markdown",
   "id": "3fc0e58b-b53f-41d3-b13d-4122bb1c883d",
   "metadata": {},
   "source": [
    "## EDA"
   ]
  },
  {
   "cell_type": "code",
   "execution_count": null,
   "id": "1332e869-f07f-4733-be50-b60e5e5f2b0e",
   "metadata": {},
   "outputs": [],
   "source": []
  },
  {
   "cell_type": "markdown",
   "id": "b4b103ec-8d70-431f-aaf9-862f03844832",
   "metadata": {},
   "source": [
    "## Data Preprocessing"
   ]
  },
  {
   "cell_type": "code",
   "execution_count": null,
   "id": "dcf84376-ebbc-4e10-857a-9ef0ddf1ea31",
   "metadata": {},
   "outputs": [],
   "source": []
  },
  {
   "cell_type": "markdown",
   "id": "9078338f-9f9a-4207-8ccf-a5df9777f353",
   "metadata": {},
   "source": [
    "## Modeling"
   ]
  },
  {
   "cell_type": "code",
   "execution_count": null,
   "id": "f036dd00-3804-407d-b144-2b88aea80004",
   "metadata": {},
   "outputs": [],
   "source": []
  },
  {
   "cell_type": "markdown",
   "id": "ee0f8aaf-84bb-4ab1-8e6f-f343d80eb21a",
   "metadata": {},
   "source": [
    "## Others"
   ]
  },
  {
   "cell_type": "code",
   "execution_count": null,
   "id": "afb81c0f-907d-497b-86b8-b960c3926e09",
   "metadata": {},
   "outputs": [],
   "source": []
  }
 ],
 "metadata": {
  "kernelspec": {
   "display_name": "Python 3 (ipykernel)",
   "language": "python",
   "name": "python3"
  },
  "language_info": {
   "codemirror_mode": {
    "name": "ipython",
    "version": 3
   },
   "file_extension": ".py",
   "mimetype": "text/x-python",
   "name": "python",
   "nbconvert_exporter": "python",
   "pygments_lexer": "ipython3",
   "version": "3.11.2"
  }
 },
 "nbformat": 4,
 "nbformat_minor": 5
}
